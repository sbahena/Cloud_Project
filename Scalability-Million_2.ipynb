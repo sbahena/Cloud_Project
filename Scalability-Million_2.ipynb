{
 "cells": [
  {
   "cell_type": "code",
   "execution_count": 1,
   "metadata": {},
   "outputs": [],
   "source": [
    "# Scalability: 8 executors, 8 cores. \n",
    "\n",
    "\n",
    "from pyspark.sql import SparkSession\n",
    "\n",
    "# (8 cores, 16gb per machine) x 5 = 40 cores\n",
    "\n",
    "# New API\n",
    "spark_session = SparkSession\\\n",
    "        .builder\\\n",
    "        .master(\"spark://192.168.1.153:7077\") \\\n",
    "        .appName(\"Group12_project_1\")\\\n",
    "        .config(\"spark.dynamicAllocation.enabled\", True)\\\n",
    "        .config(\"spark.shuffle.service.enabled\", True)\\\n",
    "        .config(\"spark.dynamicAllocation.initialExecutors\",10)\\\n",
    "        .config(\"spark.dynamicAllocation.minExecutors\",8)\\\n",
    "        .config(\"spark.dynamicAllocation.maxExecutors\",8)\\\n",
    "        .config(\"spark.dynamicAllocation.executorIdleTimeout\",\"60s\")\\\n",
    "        .config(\"spark.executor.cores\",8)\\\n",
    "        .getOrCreate()\n",
    "\n",
    "# Old API (RDD)\n",
    "spark_context = spark_session.sparkContext"
   ]
  },
  {
   "cell_type": "code",
   "execution_count": 2,
   "metadata": {},
   "outputs": [],
   "source": [
    "import h5py\n",
    "import sys\n",
    "import io\n",
    "\n",
    "# h5py doesn't know anything about HDFS, and will be unable to work with the 'magic' HDFS filenames.\n",
    "# As a workaround, we can load the file into memory with Spark and then read the file."
   ]
  },
  {
   "cell_type": "code",
   "execution_count": 3,
   "metadata": {},
   "outputs": [
    {
     "data": {
      "text/plain": [
       "[['Andy Andy',\n",
       "  'La Culpa',\n",
       "  0.0,\n",
       "  0.3794821702804675,\n",
       "  nan,\n",
       "  nan,\n",
       "  226.35057,\n",
       "  130.04,\n",
       "  0],\n",
       " ['Faiz Ali Faiz',\n",
       "  'Sohna Nee Sohna Data',\n",
       "  nan,\n",
       "  0.30667609347902947,\n",
       "  nan,\n",
       "  nan,\n",
       "  599.24853,\n",
       "  99.273,\n",
       "  0]]"
      ]
     },
     "execution_count": 3,
     "metadata": {},
     "output_type": "execute_result"
    }
   ],
   "source": [
    "#rdd = spark_context.binaryFiles(\"hdfs://host-192-168-1-153-ldsa:9000/millionsongs/data/A/A/A/TRAAAAW128F429D538.h5\")\n",
    "rdd = spark_context.binaryFiles(\"hdfs://192.168.1.153:9000/millionsongs/data/*/*/*/*\")\n",
    "\n",
    "def f(x):\n",
    "    \n",
    "    # x[0] = filename\n",
    "    # x[1] = binary content\n",
    "    with h5py.File(io.BytesIO(x[1])) as f:\n",
    "\n",
    "        artistName        = f['metadata']['songs']['artist_name'][0].decode('UTF-8')\n",
    "        songTitle         = f['metadata']['songs']['title'][0].decode('UTF-8')\n",
    "        songHotness       = f['metadata']['songs']['song_hotttnesss'][0].item()\n",
    "        artistHotness     = f['metadata']['songs']['artist_hotttnesss'][0].item()\n",
    "        latitude          = f['metadata']['songs']['artist_latitude'][0].item()\n",
    "        longitude         = f['metadata']['songs']['artist_longitude'][0].item()\n",
    "        duration          = f['analysis']['songs']['duration'][0].item()\n",
    "        tempo             = f['analysis']['songs']['tempo'][0].item()\n",
    "        year              = f['musicbrainz']['songs']['year'][0].item()\n",
    "        \n",
    "        return [artistName, songTitle, songHotness, artistHotness, \n",
    "                latitude, longitude, duration, tempo, year]\n",
    "\n",
    "rdd = rdd.map(f)\n",
    "rdd.take(2)"
   ]
  },
  {
   "cell_type": "code",
   "execution_count": 4,
   "metadata": {},
   "outputs": [],
   "source": [
    "from pyspark.sql.types import *\n",
    "\n",
    "fields = [StructField(\"aristName\", StringType(), True),\n",
    "          StructField(\"songTitle\", StringType(), True),\n",
    "          StructField(\"songHotness\", FloatType(), True),\n",
    "          StructField(\"artistHottness\", FloatType(), True),\n",
    "          StructField(\"latitude\", FloatType(), True),\n",
    "          StructField(\"longitude\", FloatType(), True),\n",
    "          StructField(\"duration\", FloatType(), True),\n",
    "          StructField(\"tempo\", FloatType() ,True),\n",
    "          StructField(\"year\", IntegerType(), True)]\n",
    "\n",
    "schema = StructType(fields)\n",
    "\n",
    "songs = spark_session.createDataFrame(rdd, schema)"
   ]
  },
  {
   "cell_type": "code",
   "execution_count": 5,
   "metadata": {},
   "outputs": [
    {
     "name": "stdout",
     "output_type": "stream",
     "text": [
      "root\n",
      " |-- aristName: string (nullable = true)\n",
      " |-- songTitle: string (nullable = true)\n",
      " |-- songHotness: float (nullable = true)\n",
      " |-- artistHottness: float (nullable = true)\n",
      " |-- latitude: float (nullable = true)\n",
      " |-- longitude: float (nullable = true)\n",
      " |-- duration: float (nullable = true)\n",
      " |-- tempo: float (nullable = true)\n",
      " |-- year: integer (nullable = true)\n",
      "\n"
     ]
    }
   ],
   "source": [
    "songs.printSchema()"
   ]
  },
  {
   "cell_type": "code",
   "execution_count": 6,
   "metadata": {},
   "outputs": [
    {
     "name": "stdout",
     "output_type": "stream",
     "text": [
      "+--------------------+--------------------+-----------+--------------+--------+----------+---------+-------+----+\n",
      "|           aristName|           songTitle|songHotness|artistHottness|latitude| longitude| duration|  tempo|year|\n",
      "+--------------------+--------------------+-----------+--------------+--------+----------+---------+-------+----+\n",
      "|           Andy Andy|            La Culpa|        0.0|    0.37948218|     NaN|       NaN|226.35057| 130.04|   0|\n",
      "|       Faiz Ali Faiz|Sohna Nee Sohna Data|        NaN|     0.3066761|     NaN|       NaN|599.24854| 99.273|   0|\n",
      "|        SUE THOMPSON|James (Hold The L...| 0.49529362|    0.30624226|37.83721| -94.35868|124.86485|137.522|1985|\n",
      "|      Five Bolt Main|Made Like This (L...|  0.3759843|    0.36365137|     NaN|       NaN| 225.0967|164.672|   0|\n",
      "|          Faye Adams|Crazy Mixed Up World|        0.0|    0.29923037|40.73197| -74.17418|156.39465| 95.957|1961|\n",
      "|         John Wesley|   The Emperor Falls| 0.37753165|     0.4527895|27.94017| -82.32547|484.62323|138.007|   0|\n",
      "|      Sierra Maestra|   ¿Dónde va Chichi?|        NaN|    0.39273366|     NaN|       NaN|313.12933|189.646|1997|\n",
      "|           John Cale|Movement 4 [from ...| 0.22655532|    0.48165587|     NaN|       NaN|228.46649|137.004|1997|\n",
      "|        Murskahumppa|          Ota kiinni|        NaN|    0.26803783|     NaN|       NaN| 285.1783|110.787|   0|\n",
      "|     Nine Inch Nails|               Metal|  0.6355367|     0.5984585|41.50471| -81.69074| 426.8926| 63.017|2000|\n",
      "|           Smartbomb|       Complicate It|        0.0|    0.32248512|     NaN|       NaN|233.27303|132.022|2001|\n",
      "|Hank Penny & The ...|               Dixie|        NaN|    0.34759888|33.52029|  -86.8115|123.21914|126.523|   0|\n",
      "|  Carl Cox Vs Yousef|I Want You (Forever)| 0.51125485|    0.38418427|     NaN|       NaN|357.82486|130.016|1991|\n",
      "|     Martina McBride|I Can't Stop Lovi...| 0.48828986|     0.6282464|     NaN|       NaN|261.95547|100.194|2005|\n",
      "|               Morel|           Blue Taxi|        NaN|     0.3340658| 38.8991|   -77.029|311.40527|108.367|   0|\n",
      "|  Thomas Battenstein|            Sympathy|        NaN|           0.0|     NaN|       NaN|205.58322| 97.976|   0|\n",
      "|        Bob Neuwirth|     Biding Her Time|  0.4806106|    0.30150247|40.71455| -74.00712|241.10976|152.267|1990|\n",
      "|Toni Braxton Feat...|Christmas In Jamaica|        NaN|     0.5559688|     NaN|       NaN|219.01016| 149.94|2001|\n",
      "|               Eddie|          No Control|        NaN|    0.36223873|     NaN|       NaN| 230.0077|142.024|   0|\n",
      "|       Suzanne Ciani|              Mozart| 0.60850006|    0.38070452|37.77916|-122.42005|192.20853|139.189|1989|\n",
      "+--------------------+--------------------+-----------+--------------+--------+----------+---------+-------+----+\n",
      "only showing top 20 rows\n",
      "\n"
     ]
    }
   ],
   "source": [
    "songs.show()\n",
    "#songs.show(vertical = True)"
   ]
  },
  {
   "cell_type": "code",
   "execution_count": 7,
   "metadata": {},
   "outputs": [
    {
     "name": "stdout",
     "output_type": "stream",
     "text": [
      "Rows in  Dataframe: 10000\n",
      "Number of Partitions: 21\n"
     ]
    }
   ],
   "source": [
    "\n",
    "# Size of the dataframe\n",
    "print(\"Rows in  Dataframe:\", songs.count())\n",
    "\n",
    "# RDD partitions\n",
    "print(\"Number of Partitions:\", songs.rdd.getNumPartitions())"
   ]
  },
  {
   "cell_type": "code",
   "execution_count": 8,
   "metadata": {},
   "outputs": [
    {
     "name": "stdout",
     "output_type": "stream",
     "text": [
      "+--------------------+--------------------+-----------+--------------+---------+----------+---------+-------+----+\n",
      "|           aristName|           songTitle|songHotness|artistHottness| latitude| longitude| duration|  tempo|year|\n",
      "+--------------------+--------------------+-----------+--------------+---------+----------+---------+-------+----+\n",
      "|        SUE THOMPSON|James (Hold The L...| 0.49529362|    0.30624226| 37.83721| -94.35868|124.86485|137.522|1985|\n",
      "|     Nine Inch Nails|               Metal|  0.6355367|     0.5984585| 41.50471| -81.69074| 426.8926| 63.017|2000|\n",
      "|        Bob Neuwirth|     Biding Her Time|  0.4806106|    0.30150247| 40.71455| -74.00712|241.10976|152.267|1990|\n",
      "|       Suzanne Ciani|              Mozart| 0.60850006|    0.38070452| 37.77916|-122.42005|192.20853|139.189|1989|\n",
      "|           Pearl Jam|          Inside Job|  0.6593047|     0.6079718| 47.60356|-122.32944|428.56445|105.994|2006|\n",
      "|        Jimmy Wakely|Beautiful Brown eyes| 0.46264318|    0.29153973| 34.31109| -94.02978|155.95058|109.065|2001|\n",
      "|Rah Digga (Featur...|The Last Word (Am...| 0.40511572|    0.41144815| 40.14323| -74.72671|256.80933|201.802|2000|\n",
      "|          Sandi Thom|      Wounded Hearts| 0.41967428|     0.4050313| 56.65286|  -3.99667|205.21751| 82.205|2008|\n",
      "|          Lisa Lynne|       Isla del Luna| 0.76130325|    0.42093775| 34.05349|-118.24532|316.49915| 95.981|1999|\n",
      "|          Lisa Lynne|      Lake Of Dreams|  0.6738756|    0.42093775| 34.05349|-118.24532|298.10892| 94.031|1998|\n",
      "|    A Static Lullaby|        Rattlesnake!|  0.5902527|     0.5575625| 33.99604|-117.75801|213.49832|202.233|2008|\n",
      "|         VHS Or Beta|The Melting Moon ...| 0.52496904|    0.42197397| 38.25486|  -85.7664|224.20853|126.806|2004|\n",
      "|       Marcus Miller|Let Me Show You [...| 0.50338125|     0.4121105| 40.65507| -73.94888| 280.1367|125.147|1983|\n",
      "|          Helen Love|              So Hot|  0.2998775|    0.34700692| 51.48126|  -3.18067| 81.97179| 100.76|1994|\n",
      "|    Eighteen Visions|    Our Darkest Days|  0.6603697|      0.440108|  33.6671|-117.76505|172.19873|131.079|2006|\n",
      "|             KALIMBA|              Volcán| 0.45076224|    0.43514466|  19.4319| -99.13285|352.67874| 80.484|2009|\n",
      "|        Eliane Elias|No More Blues (Ch...| 0.21508032|    0.42791426|-23.56287| -46.65466|326.42566| 95.111|1992|\n",
      "|           Buzzcocks|       Strange Thing| 0.55064714|     0.5287952| 51.50632|  -0.12714|219.19302|176.153|1980|\n",
      "|  Bersuit Vergarabat|       Sencillamente| 0.51475334|    0.43983635|-34.60852| -58.37354| 307.3563|135.982|2005|\n",
      "|       Basic Channel|  Phylyps Trak II/II| 0.50915724|    0.36020043| 52.51607|  13.37698| 793.6257|127.923|1994|\n",
      "+--------------------+--------------------+-----------+--------------+---------+----------+---------+-------+----+\n",
      "only showing top 20 rows\n",
      "\n",
      "Evaluation time: 24.090158939361572 seconds\n"
     ]
    }
   ],
   "source": [
    "import time\n",
    "times = []\n",
    "start_time = time.time()\n",
    "\n",
    "df_filtered = songs.filter((songs.latitude != 'NaN') & (songs.songHotness != 'NaN') &\n",
    "                           (songs.songHotness != 0.0) & (songs.year != 0))\n",
    "df_filtered.show()\n",
    "\n",
    "end_time = time.time()\n",
    "total_time = end_time - start_time\n",
    "times.append(total_time)\n",
    "print(\"Evaluation time: {} seconds\".format(total_time))"
   ]
  },
  {
   "cell_type": "code",
   "execution_count": 9,
   "metadata": {
    "scrolled": true
   },
   "outputs": [
    {
     "name": "stdout",
     "output_type": "stream",
     "text": [
      "USA\n"
     ]
    }
   ],
   "source": [
    "from geopy.geocoders import Nominatim\n",
    "from geopy.extra.rate_limiter import RateLimiter\n",
    "from ipykernel import kernelapp as app\n",
    "\n",
    "import time\n",
    "'''\n",
    "Each geolocation service you might use, such as Google Maps, Bing Maps, or Nominatim, has its own class in\n",
    "geopy.geocoders abstracting the service’s API. Geocoders each define at least a geocode method, for resolving\n",
    "a location from a string, and may define a reverse method, which resolves a pair of coordinates to an address. Each\n",
    "Geocoder accepts any credentials or settings needed to interact with its service, e.g., an API key or locale, during its\n",
    "initialization.\n",
    "\n",
    "May need python3 -m pip install geopy --user\n",
    "'''\n",
    "\n",
    "def setCountry(coor):\n",
    "\n",
    "    \n",
    "    geolocator = Nominatim(user_agent=\"Million Song Dataset project\")\n",
    "    geocode = RateLimiter(geolocator.geocode, min_delay_seconds=1.5)\n",
    "    location = geolocator.reverse((coor[0],coor[1]))\n",
    "    return location.raw['address']['country']\n",
    "    \n",
    "country = setCountry([34.302459716796875, -79.87162017822266])\n",
    "print(country)\n",
    "\n",
    "#countries = songs.map(setCountry(songs.latitude, songs.longitude))\n",
    "\n",
    "#countries.take(5)"
   ]
  },
  {
   "cell_type": "code",
   "execution_count": 10,
   "metadata": {},
   "outputs": [
    {
     "name": "stdout",
     "output_type": "stream",
     "text": [
      "+--------------------+--------------------+-----------+--------------+--------+----------+---------+-------+----+\n",
      "|           aristName|           songTitle|songHotness|artistHottness|latitude| longitude| duration|  tempo|year|\n",
      "+--------------------+--------------------+-----------+--------------+--------+----------+---------+-------+----+\n",
      "|          Lisa Lynne|       Isla del Luna| 0.76130325|    0.42093775|34.05349|-118.24532|316.49915| 95.981|1999|\n",
      "|         Cancer Bats|            Sabotage|  0.7262674|    0.53384274|43.64856| -79.38533|180.71465|  86.01|2010|\n",
      "|       Avril Lavigne|           Innocence| 0.92713255|    0.59859675|44.16104|  -77.3819|  232.202|138.364|2007|\n",
      "|Del Tha Funkee Ho...|       Mistadobalina|  0.7589738|    0.45843947|37.80506|-122.27302| 257.6975| 99.566|1991|\n",
      "|       Kings Of Leon|              Genius|  0.9102251|    0.78880596|36.16778| -86.77836|168.82893|125.875|2003|\n",
      "|        Circle Jerks|       Paid Vacation|  0.7795272|     0.4140795|34.05349|-118.24532| 88.89424|156.605|1980|\n",
      "|          Whitesnake|Fool For Your Loving|  0.8525914|    0.53130335|51.50632|  -0.12714| 250.3571|125.783|1980|\n",
      "|          Little Eva|     The Loco-Motion| 0.92836714|    0.38454953|35.21962| -80.01955|  145.162|129.781|1962|\n",
      "|           Semisonic|        Secret Smile| 0.77523535|    0.47070038|44.97903| -93.26493|280.00607| 99.059|1998|\n",
      "|  The Rolling Stones|           Rocks Off|  0.7351687|    0.77603763|51.50632|  -0.12714|272.43057|141.808|1972|\n",
      "|       Kings Of Leon|       Day Old Blues|  0.7247888|    0.83771473|36.16778| -86.77836|212.97588| 85.855|2004|\n",
      "|            The Fray|              Vienna|  0.7984098|    0.66134936|39.74001|-104.99226|231.07874|124.534|2002|\n",
      "|                 Tad|Stumblin' Man (Al...| 0.74394375|    0.39890888|47.60356|-122.32944|215.43138|157.532|1991|\n",
      "|          Eurythmics|      Missionary Man| 0.73000985|     0.5236991|51.50632|  -0.12714|269.94894|124.973|1986|\n",
      "|   The White Stripes|I\u0019m Slowly Turnin...|  0.7076683|     0.6538972|42.33168| -83.04792|274.59872|131.279|2007|\n",
      "|Arsonists Get All...|Violence in Fluid...|  0.7314734|     0.4549574|36.97402|-122.03095| 240.9269|129.824|2009|\n",
      "|            The Cars|               Drive| 0.83300626|      0.537002|42.31256| -71.08868|234.50076|111.319|1984|\n",
      "|       Modern Lovers|         She cracked|   0.800079|    0.39611152|42.31256| -71.08868|260.62323|142.857|1976|\n",
      "|       Scar Symmetry|     The Illusionist|  0.7163213|    0.45582598|62.19845|  17.55142| 271.5424|150.086|2006|\n",
      "|           Cauterize|      Shooting Stars| 0.71432906|    0.41772735|43.72233| -90.59239|240.43057| 97.148|2003|\n",
      "+--------------------+--------------------+-----------+--------------+--------+----------+---------+-------+----+\n",
      "only showing top 20 rows\n",
      "\n",
      "Evaluation time: 47.575430154800415 seconds\n"
     ]
    }
   ],
   "source": [
    "#Filter the songs which have a \"Hotness\" greater than 70%, to determinate the most popular songs.\n",
    "import time\n",
    "times = []\n",
    "start_time = time.time()\n",
    "\n",
    "selected_songs = df_filtered.filter(df_filtered.songHotness >= 0.7)\n",
    "selected_songs.show()\n",
    "\n",
    "end_time = time.time()\n",
    "total_time = end_time - start_time\n",
    "times.append(total_time)\n",
    "print(\"Evaluation time: {} seconds\".format(total_time))"
   ]
  },
  {
   "cell_type": "code",
   "execution_count": 11,
   "metadata": {
    "scrolled": true
   },
   "outputs": [
    {
     "data": {
      "text/plain": [
       "99"
      ]
     },
     "execution_count": 11,
     "metadata": {},
     "output_type": "execute_result"
    }
   ],
   "source": [
    "#Total of songs form the original dataset which \"hotness\" is greater than 70%\n",
    "selected_songs.count()"
   ]
  },
  {
   "cell_type": "code",
   "execution_count": 12,
   "metadata": {},
   "outputs": [
    {
     "name": "stdout",
     "output_type": "stream",
     "text": [
      "+--------------------+-----+\n",
      "|           aristName|count|\n",
      "+--------------------+-----+\n",
      "|       Kings Of Leon|    3|\n",
      "|    Public Image Ltd|    3|\n",
      "|   The White Stripes|    3|\n",
      "|       Scar Symmetry|    3|\n",
      "|           Pennywise|    2|\n",
      "|Arsonists Get All...|    2|\n",
      "|          Lisa Lynne|    2|\n",
      "|          Nickelback|    2|\n",
      "|             OutKast|    2|\n",
      "|        Circle Jerks|    2|\n",
      "|         Alicia Keys|    2|\n",
      "|        Daddy Yankee|    2|\n",
      "|         The Strokes|    2|\n",
      "|            The Fray|    2|\n",
      "|                 M83|    2|\n",
      "|   Lighthouse Family|    2|\n",
      "|        Tyrone Wells|    2|\n",
      "|         Linkin Park|    1|\n",
      "|                 Tad|    1|\n",
      "|          Yellowcard|    1|\n",
      "+--------------------+-----+\n",
      "only showing top 20 rows\n",
      "\n"
     ]
    }
   ],
   "source": [
    "#Classification of singers/band by their amount of popular songs. \n",
    "\n",
    "singer=selected_songs.groupBy(selected_songs.aristName).count().orderBy('count',ascending=False).show()"
   ]
  },
  {
   "cell_type": "code",
   "execution_count": 13,
   "metadata": {},
   "outputs": [
    {
     "name": "stdout",
     "output_type": "stream",
     "text": [
      "+-------+------------------+\n",
      "|summary|             tempo|\n",
      "+-------+------------------+\n",
      "|  count|                99|\n",
      "|   mean|127.78080803456933|\n",
      "| stddev| 29.05244925733072|\n",
      "|    min|            84.373|\n",
      "|    max|           201.566|\n",
      "+-------+------------------+\n",
      "\n"
     ]
    }
   ],
   "source": [
    "#Statistics about the \"Tempo\" of the 99 most popular songs. \n",
    "selected_songs.describe('tempo').show()"
   ]
  },
  {
   "cell_type": "code",
   "execution_count": 14,
   "metadata": {},
   "outputs": [
    {
     "name": "stdout",
     "output_type": "stream",
     "text": [
      "+-----------------+--------------------+-----------+--------------+--------+---------+---------+-------+----+\n",
      "|        aristName|           songTitle|songHotness|artistHottness|latitude|longitude| duration|  tempo|year|\n",
      "+-----------------+--------------------+-----------+--------------+--------+---------+---------+-------+----+\n",
      "|    Kings Of Leon|              Genius|  0.9102251|    0.78880596|36.16778|-86.77836|168.82893|125.875|2003|\n",
      "|    Kings Of Leon|       Day Old Blues|  0.7247888|    0.83771473|36.16778|-86.77836|212.97588| 85.855|2004|\n",
      "|The White Stripes|I\u0019m Slowly Turnin...|  0.7076683|     0.6538972|42.33168|-83.04792|274.59872|131.279|2007|\n",
      "|    Scar Symmetry|     The Illusionist|  0.7163213|    0.45582598|62.19845| 17.55142| 271.5424|150.086|2006|\n",
      "|    Scar Symmetry|The Three-Dimensi...|  0.7101015|    0.45582598|62.19845| 17.55142|237.84444|110.107|2008|\n",
      "|    Kings Of Leon|               Ragoo|  0.7461609|    0.78880596|36.16778|-86.77836|181.13261|102.066|2007|\n",
      "| Public Image Ltd|            The Suit|  0.7034022|     0.4155171|51.50632| -0.12714| 209.3971|124.494|1979|\n",
      "|The White Stripes|A Martyr For My L...| 0.84508836|     0.6538972|42.33168|-83.04792| 259.5522| 85.159|2007|\n",
      "| Public Image Ltd|  The Order Of Death|  0.7899387|     0.4155171|51.50632| -0.12714|288.80933|102.976|1984|\n",
      "|    Scar Symmetry|          Abstracted| 0.70793754|    0.45582598|62.19845| 17.55142|204.95628| 97.687|2006|\n",
      "|The White Stripes|         Blue Orchid|  0.9723869|     0.6538972|42.33168|-83.04792|160.31302|152.785|2005|\n",
      "| Public Image Ltd|This Is Not A Lov...|  0.8736188|     0.4155171|51.50632| -0.12714|251.50648|127.369|1983|\n",
      "+-----------------+--------------------+-----------+--------------+--------+---------+---------+-------+----+\n",
      "\n"
     ]
    }
   ],
   "source": [
    "#Selection of artist/bands who had the most popular songs multiple times (3 times each) \n",
    "#Creation of dictionary to do the filter.\n",
    "\n",
    "singers = ['Scar Symmetry', 'Public Image Ltd', 'The White Stripes','Kings Of Leon']\n",
    "\n",
    "best_songs=selected_songs.filter(selected_songs.aristName.isin(singers))\n",
    "\n",
    "best_songs.show()"
   ]
  },
  {
   "cell_type": "code",
   "execution_count": 15,
   "metadata": {},
   "outputs": [
    {
     "name": "stdout",
     "output_type": "stream",
     "text": [
      "+---------+--------+\n",
      "|longitude|latitude|\n",
      "+---------+--------+\n",
      "|-86.77836|36.16778|\n",
      "|-86.77836|36.16778|\n",
      "|-83.04792|42.33168|\n",
      "| 17.55142|62.19845|\n",
      "| 17.55142|62.19845|\n",
      "|-86.77836|36.16778|\n",
      "| -0.12714|51.50632|\n",
      "|-83.04792|42.33168|\n",
      "| -0.12714|51.50632|\n",
      "| 17.55142|62.19845|\n",
      "|-83.04792|42.33168|\n",
      "| -0.12714|51.50632|\n",
      "+---------+--------+\n",
      "\n"
     ]
    }
   ],
   "source": [
    "#Locations from where the most popular songs were produced\n",
    "location_of_most_popular_songs=best_songs.select('longitude' , 'latitude')\n",
    "location_of_most_popular_songs.show()"
   ]
  },
  {
   "cell_type": "code",
   "execution_count": 16,
   "metadata": {},
   "outputs": [],
   "source": [
    "#Classification of the locations where the most popular song were produced.\n",
    "Location=location_of_most_popular_songs.groupBy(best_songs.latitude,best_songs.longitude).count()\\\n",
    ".orderBy('count',ascending=False)"
   ]
  },
  {
   "cell_type": "code",
   "execution_count": 17,
   "metadata": {},
   "outputs": [
    {
     "name": "stdout",
     "output_type": "stream",
     "text": [
      "+--------+---------+-----+\n",
      "|latitude|longitude|count|\n",
      "+--------+---------+-----+\n",
      "|42.33168|-83.04792|    3|\n",
      "|36.16778|-86.77836|    3|\n",
      "|62.19845| 17.55142|    3|\n",
      "|51.50632| -0.12714|    3|\n",
      "+--------+---------+-----+\n",
      "\n"
     ]
    }
   ],
   "source": [
    "Location.show()"
   ]
  },
  {
   "cell_type": "code",
   "execution_count": 18,
   "metadata": {},
   "outputs": [],
   "source": [
    "#Convertion of \"coordinates\" to input in SetCountry fuction.\n",
    "from pyspark.sql.functions import array\n",
    "location_list=Location.withColumn(\"Coordinates\", array(Location.latitude, Location.longitude))\n",
    "Country_list=location_list.select(\"Coordinates\").rdd.flatMap(lambda x: x).collect()\n",
    "\n"
   ]
  },
  {
   "cell_type": "code",
   "execution_count": 19,
   "metadata": {},
   "outputs": [
    {
     "name": "stdout",
     "output_type": "stream",
     "text": [
      "[[51.50632095336914, -0.12714000046253204], [36.167781829833984, -86.77835845947266], [62.198448181152344, 17.551420211791992], [42.33168029785156, -83.04792022705078]]\n"
     ]
    }
   ],
   "source": [
    "print(Country_list)"
   ]
  },
  {
   "cell_type": "code",
   "execution_count": 20,
   "metadata": {},
   "outputs": [
    {
     "name": "stdout",
     "output_type": "stream",
     "text": [
      "[['UK', [51.50632095336914, -0.12714000046253204]], ['USA', [36.167781829833984, -86.77835845947266]], ['Sverige', [62.198448181152344, 17.551420211791992]], ['USA', [42.33168029785156, -83.04792022705078]]]\n"
     ]
    }
   ],
   "source": [
    "#Use of the SetCountry function to determinate Country by coordinates. \n",
    "    \n",
    "def countries(Countries):\n",
    "        list_con=[]\n",
    "        lista=[]\n",
    "        for i in range(0,len(Countries)):\n",
    "         countries_list= setCountry(Countries[i])\n",
    "         list_con.append(countries_list)\n",
    "         lista.append([list_con[i], Countries[i]])         \n",
    "        return lista\n",
    "    \n",
    "countries=(countries(Country_list))\n",
    "print(countries)\n"
   ]
  },
  {
   "cell_type": "code",
   "execution_count": 21,
   "metadata": {},
   "outputs": [],
   "source": [
    "#Countries with the most popular songs : USA, UK, Sweden. \n"
   ]
  },
  {
   "cell_type": "code",
   "execution_count": 22,
   "metadata": {},
   "outputs": [
    {
     "name": "stdout",
     "output_type": "stream",
     "text": [
      "+---------+---------+----------+----------+------------------+--------------------+\n",
      "| latitude|longitude|min(tempo)|max(tempo)|        avg(tempo)|         Coordinates|\n",
      "+---------+---------+----------+----------+------------------+--------------------+\n",
      "| 30.08374| 31.25536|    88.928|    128.47|108.69900131225586|[30.08374, 31.25536]|\n",
      "| 43.07295|-89.38669|    91.498|    97.265| 94.88166809082031|[43.07295, -89.38...|\n",
      "|  33.7621|-90.30507|   114.255|   114.255|114.25499725341797|[33.7621, -90.30507]|\n",
      "| 42.32807| -83.7336|   141.002|   141.002| 141.0019989013672|[42.32807, -83.7336]|\n",
      "| 40.85251|-73.13585|    95.254|   147.745|124.67233276367188|[40.85251, -73.13...|\n",
      "| 54.48303| -3.53444|   101.526|   124.175|109.12133534749348|[54.48303, -3.53444]|\n",
      "|  -13.442| -41.9952|    91.879|   150.155|121.01699829101562| [-13.442, -41.9952]|\n",
      "| 33.95319|-84.54588|    90.291|    90.291| 90.29100036621094|[33.95319, -84.54...|\n",
      "| 44.16104| -77.3819|   138.364|   138.364|138.36399841308594|[44.16104, -77.3819]|\n",
      "| 30.43883|-90.44116|   112.109|   183.882|147.99550247192383|[30.43883, -90.44...|\n",
      "| 32.77942|-91.56123|   122.236|   136.621| 129.4285011291504|[32.77942, -91.56...|\n",
      "| 44.48721|-71.56889|    140.97|    140.97|140.97000122070312|[44.48721, -71.56...|\n",
      "| 33.89275| 35.48527|    79.685|   137.149|104.57050132751465|[33.89275, 35.48527]|\n",
      "| 30.06677|-81.86674|   199.004|   199.004|199.00399780273438|[30.06677, -81.86...|\n",
      "| 53.93063| -1.20788|    123.26|   137.277|130.26849746704102|[53.93063, -1.20788]|\n",
      "| 34.31109|-94.02978|   109.065|   109.065|109.06500244140625|[34.31109, -94.02...|\n",
      "| 42.88544|-78.87846|    93.458|   187.401| 122.7770004272461|[42.88544, -78.87...|\n",
      "| 59.33217| 18.06243|    89.676|    89.676|  89.6760025024414|[59.33217, 18.06243]|\n",
      "|  41.9293| -88.7493|    135.39|    135.39|135.38999938964844| [41.9293, -88.7493]|\n",
      "|-37.81753|144.96715|      86.5|    227.25|151.24966430664062|[-37.81753, 144.9...|\n",
      "+---------+---------+----------+----------+------------------+--------------------+\n",
      "only showing top 20 rows\n",
      "\n",
      "Evaluation time: 40.21110653877258 seconds\n"
     ]
    }
   ],
   "source": [
    "#Evaluation of Global Location vs Tempo ( obtaining max, min and avg at each location)\n",
    "times = []\n",
    "start_time = time.time()\n",
    "\n",
    "from pyspark.sql import functions as F\n",
    "\n",
    "Global_location=df_filtered.groupBy(df_filtered.latitude,df_filtered.longitude)\\\n",
    ".agg(F.min(df_filtered.tempo),F.max(df_filtered.tempo),F.avg(df_filtered.tempo))\n",
    "\n",
    "Global_location=Global_location.withColumn(\"Coordinates\", array(Global_location.latitude, Global_location.longitude))\n",
    "\n",
    "Global_location.show()\n",
    "\n",
    "end_time = time.time()\n",
    "total_time = end_time - start_time\n",
    "times.append(total_time)\n",
    "print(\"Evaluation time: {} seconds\".format(total_time))"
   ]
  },
  {
   "cell_type": "code",
   "execution_count": 23,
   "metadata": {},
   "outputs": [],
   "source": [
    "#List of locations to use GeoPy\n",
    "Global_list=Global_location.select(\"Coordinates\").rdd.flatMap(lambda x: x).collect()\n",
    "\n"
   ]
  },
  {
   "cell_type": "code",
   "execution_count": 24,
   "metadata": {},
   "outputs": [
    {
     "data": {
      "text/plain": [
       "315"
      ]
     },
     "execution_count": 24,
     "metadata": {},
     "output_type": "execute_result"
    }
   ],
   "source": [
    "#Number of diffetent locations.\n",
    "len(Global_list)"
   ]
  },
  {
   "cell_type": "code",
   "execution_count": 25,
   "metadata": {},
   "outputs": [],
   "source": [
    "# I had to split the list becase GEOPY has a restrition on timerequest also a problem with tuplet #119?? Don't know the reason. \n",
    "Global_list_1=(Global_list[0:100])\n",
    "Global_list_21=(Global_list[101:118])\n",
    "Global_list_22=(Global_list[120:200])\n",
    "Global_list_3=(Global_list[201:315])\n"
   ]
  },
  {
   "cell_type": "code",
   "execution_count": 26,
   "metadata": {},
   "outputs": [],
   "source": [
    "\n",
    "def countries(Countries):\n",
    "        list_con=[]\n",
    "        lista=[]\n",
    "        for i in range(0,len(Countries)):\n",
    "         countries_list= setCountry(Countries[i])\n",
    "         list_con.append(countries_list)\n",
    "         lista.append((list_con[i],Countries[i]))         \n",
    "        return lista\n",
    "    \n",
    "    \n",
    "Global_countries_1=(countries(Global_list_1))\n",
    "\n",
    "\n",
    "\n"
   ]
  },
  {
   "cell_type": "code",
   "execution_count": 27,
   "metadata": {},
   "outputs": [],
   "source": [
    "Global_countries_22=(countries(Global_list_22))\n"
   ]
  },
  {
   "cell_type": "code",
   "execution_count": 28,
   "metadata": {},
   "outputs": [],
   "source": [
    "Global_countries_21=(countries(Global_list_21))"
   ]
  },
  {
   "cell_type": "code",
   "execution_count": 30,
   "metadata": {},
   "outputs": [],
   "source": [
    "Global_countries_3=(countries(Global_list_3))"
   ]
  },
  {
   "cell_type": "code",
   "execution_count": 31,
   "metadata": {},
   "outputs": [],
   "source": [
    "#Merge the list of countries, this was necessary because the request restriction of GeoPy.\n",
    "Countries_list = (*Global_countries_1,*Global_countries_21, *Global_countries_22,*Global_countries_3)"
   ]
  },
  {
   "cell_type": "code",
   "execution_count": 32,
   "metadata": {},
   "outputs": [],
   "source": [
    "#Convert the list to an array, which will be used as a dictionary to determinate the locations in the dataframe.\n",
    "import numpy as np\n",
    "myarray = np.asarray(Countries_list)"
   ]
  },
  {
   "cell_type": "code",
   "execution_count": 33,
   "metadata": {
    "scrolled": true
   },
   "outputs": [
    {
     "name": "stdout",
     "output_type": "stream",
     "text": [
      "+---------+---------+----------+----------+------------------+--------------------+---------+\n",
      "| latitude|longitude|min(tempo)|max(tempo)|        avg(tempo)|         Coordinates|  Country|\n",
      "+---------+---------+----------+----------+------------------+--------------------+---------+\n",
      "| 30.08374| 31.25536|    88.928|    128.47|108.69900131225586|[30.08374, 31.25536]|      مصر|\n",
      "| 43.07295|-89.38669|    91.498|    97.265| 94.88166809082031|[43.07295, -89.38...|      USA|\n",
      "|  33.7621|-90.30507|   114.255|   114.255|114.25499725341797|[33.7621, -90.30507]|      USA|\n",
      "| 42.32807| -83.7336|   141.002|   141.002| 141.0019989013672|[42.32807, -83.7336]|      USA|\n",
      "| 40.85251|-73.13585|    95.254|   147.745|124.67233276367188|[40.85251, -73.13...|      USA|\n",
      "| 54.48303| -3.53444|   101.526|   124.175|109.12133534749348|[54.48303, -3.53444]|       UK|\n",
      "|  -13.442| -41.9952|    91.879|   150.155|121.01699829101562| [-13.442, -41.9952]|   Brasil|\n",
      "| 33.95319|-84.54588|    90.291|    90.291| 90.29100036621094|[33.95319, -84.54...|      USA|\n",
      "| 30.43883|-90.44116|   112.109|   183.882|147.99550247192383|[30.43883, -90.44...|      USA|\n",
      "| 44.16104| -77.3819|   138.364|   138.364|138.36399841308594|[44.16104, -77.3819]|   Canada|\n",
      "| 32.77942|-91.56123|   122.236|   136.621| 129.4285011291504|[32.77942, -91.56...|      USA|\n",
      "| 44.48721|-71.56889|    140.97|    140.97|140.97000122070312|[44.48721, -71.56...|      USA|\n",
      "| 33.89275| 35.48527|    79.685|   137.149|104.57050132751465|[33.89275, 35.48527]|    لبنان|\n",
      "| 53.93063| -1.20788|    123.26|   137.277|130.26849746704102|[53.93063, -1.20788]|       UK|\n",
      "| 30.06677|-81.86674|   199.004|   199.004|199.00399780273438|[30.06677, -81.86...|      USA|\n",
      "| 34.31109|-94.02978|   109.065|   109.065|109.06500244140625|[34.31109, -94.02...|      USA|\n",
      "| 42.88544|-78.87846|    93.458|   187.401| 122.7770004272461|[42.88544, -78.87...|      USA|\n",
      "| 37.59791| 69.86799|   104.793|   104.793|104.79299926757812|[37.59791, 69.86799]|افغانستان|\n",
      "| 59.33217| 18.06243|    89.676|    89.676|  89.6760025024414|[59.33217, 18.06243]|  Sverige|\n",
      "|-37.81753|144.96715|      86.5|    227.25|151.24966430664062|[-37.81753, 144.9...|Australia|\n",
      "+---------+---------+----------+----------+------------------+--------------------+---------+\n",
      "only showing top 20 rows\n",
      "\n",
      "Evaluation time: 41.55136752128601 seconds\n"
     ]
    }
   ],
   "source": [
    "#Determinating the locations to the dataframe. \n",
    "from pyspark.sql.functions import udf\n",
    "from pyspark.sql.types import StringType\n",
    "\n",
    "times = []\n",
    "start_time = time.time()\n",
    "\n",
    "Country_key=udf(lambda value:next((x[0] for x in myarray if x[1] == value ), None),StringType())\n",
    "        \n",
    "\n",
    "new_location_data_frame = Global_location.withColumn('Country',Country_key(Global_location.Coordinates))\n",
    "new_location_data_frame.show()\n",
    "\n",
    "end_time = time.time()\n",
    "total_time = end_time - start_time\n",
    "times.append(total_time)\n",
    "print(\"Evaluation time: {} seconds\".format(total_time))"
   ]
  },
  {
   "cell_type": "code",
   "execution_count": 34,
   "metadata": {},
   "outputs": [
    {
     "name": "stdout",
     "output_type": "stream",
     "text": [
      "Evaluation time: 41.55136752128601 seconds\n"
     ]
    }
   ],
   "source": [
    "print(\"Evaluation time: {} seconds\".format(total_time))"
   ]
  },
  {
   "cell_type": "code",
   "execution_count": 35,
   "metadata": {},
   "outputs": [],
   "source": [
    "#Grouping the information by Country.\n",
    "\n",
    "Total_countries=new_location_data_frame.groupBy(new_location_data_frame.Country).count().orderBy('count',ascending=False)"
   ]
  },
  {
   "cell_type": "code",
   "execution_count": 36,
   "metadata": {},
   "outputs": [
    {
     "data": {
      "text/plain": [
       "39"
      ]
     },
     "execution_count": 36,
     "metadata": {},
     "output_type": "execute_result"
    }
   ],
   "source": [
    "Total_countries.count()"
   ]
  },
  {
   "cell_type": "code",
   "execution_count": 37,
   "metadata": {},
   "outputs": [],
   "source": [
    "#Getting the tempo values for each country.\n",
    "Tempo_per_country=new_location_data_frame.groupBy(new_location_data_frame.Country)\\\n",
    ".agg(F.min('min(tempo)'),F.max('max(tempo)'),F.avg('avg(tempo)'))"
   ]
  },
  {
   "cell_type": "code",
   "execution_count": 38,
   "metadata": {},
   "outputs": [
    {
     "name": "stdout",
     "output_type": "stream",
     "text": [
      "+--------------------+---------------+---------------+------------------+\n",
      "|             Country|min(min(tempo))|max(max(tempo))|   avg(avg(tempo))|\n",
      "+--------------------+---------------+---------------+------------------+\n",
      "|             Danmark|        109.984|        112.222|111.10300064086914|\n",
      "|              Србија|        156.948|        156.948|  156.947998046875|\n",
      "|United States of ...|        127.601|        127.601|127.60099792480469|\n",
      "|               Norge|         95.138|        164.595|118.40124893188477|\n",
      "|              Italia|         69.768|        160.071|110.65499877929688|\n",
      "|              España|         90.645|         180.04|126.22749710083008|\n",
      "|               Suomi|         71.758|        165.908|128.41321023305258|\n",
      "|              France|         76.296|        241.892|118.44690651363797|\n",
      "|Schweiz/Suisse/Sv...|        142.192|        142.192|142.19200134277344|\n",
      "|                null|          72.74|        144.538|117.48724937438965|\n",
      "|           Argentina|            0.0|        214.941|105.47683181762696|\n",
      "|               Ghana|        117.973|        117.973| 117.9729995727539|\n",
      "|               لبنان|         79.685|        137.149|104.57050132751465|\n",
      "|              Panamá|        159.233|        159.233|159.23300170898438|\n",
      "|             Nigeria|         87.553|        161.991|124.77199935913086|\n",
      "|             Sverige|          88.02|         205.16|127.17479783661511|\n",
      "|           افغانستان|        104.793|        104.793|104.79299926757812|\n",
      "|New Zealand / Aot...|         42.782|        216.023|129.40249824523926|\n",
      "|                Cuba|         61.018|        202.153|174.86250146230063|\n",
      "|            Barbados|         85.976|         94.987| 90.48149871826172|\n",
      "|             Ireland|         87.643|        210.957|122.37036005655925|\n",
      "|België / Belgique...|         63.334|        137.328|102.99162515004475|\n",
      "|           Venezuela|        169.131|        169.131|169.13099670410156|\n",
      "|                 USA|         41.945|        239.407|121.88626316095925|\n",
      "|                  UK|         61.409|        229.808|118.11162590023673|\n",
      "|                 مصر|         88.928|         128.47|108.69900131225586|\n",
      "|             Jamaica|         40.027|         168.02| 132.8157416449653|\n",
      "|             Latvija|        100.138|        100.138|100.13800048828125|\n",
      "|              Canada|         84.373|        189.068|130.25888247367664|\n",
      "|         Deutschland|         42.654|        160.546| 98.54860055106028|\n",
      "|              Ελλάδα|         62.216|        163.789|137.82193082173666|\n",
      "|              Brasil|         83.219|        194.099|131.32668781280518|\n",
      "|            Portugal|        120.064|        140.185| 130.1245002746582|\n",
      "|           Australia|         70.759|         227.25|128.41355429755316|\n",
      "|              México|         65.246|         93.106| 79.13950157165527|\n",
      "|        South Africa|         77.072|         96.007| 86.53950119018555|\n",
      "|            Colombia|        101.994|        121.949|109.66799926757812|\n",
      "|                日本|        137.923|        142.946|140.43450164794922|\n",
      "|                Mali|        105.981|        160.887|133.43399810791016|\n",
      "+--------------------+---------------+---------------+------------------+\n",
      "\n"
     ]
    }
   ],
   "source": [
    "#Final result.\n",
    "#The null probably is the #119, \n",
    "\n",
    "Tempo_per_country.show(39)"
   ]
  },
  {
   "cell_type": "code",
   "execution_count": null,
   "metadata": {},
   "outputs": [],
   "source": []
  }
 ],
 "metadata": {
  "kernelspec": {
   "display_name": "Python 3",
   "language": "python",
   "name": "python3"
  },
  "language_info": {
   "codemirror_mode": {
    "name": "ipython",
    "version": 3
   },
   "file_extension": ".py",
   "mimetype": "text/x-python",
   "name": "python",
   "nbconvert_exporter": "python",
   "pygments_lexer": "ipython3",
   "version": "3.6.7"
  }
 },
 "nbformat": 4,
 "nbformat_minor": 2
}
